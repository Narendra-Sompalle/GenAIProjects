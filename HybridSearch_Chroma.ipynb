{
  "nbformat": 4,
  "nbformat_minor": 0,
  "metadata": {
    "colab": {
      "provenance": [],
      "authorship_tag": "ABX9TyOfVfVjsQJMc93L2T/mnXeh",
      "include_colab_link": true
    },
    "kernelspec": {
      "name": "python3",
      "display_name": "Python 3"
    },
    "language_info": {
      "name": "python"
    }
  },
  "cells": [
    {
      "cell_type": "markdown",
      "metadata": {
        "id": "view-in-github",
        "colab_type": "text"
      },
      "source": [
        "<a href=\"https://colab.research.google.com/github/Narendra-Sompalle/GenAIProjects/blob/main/HybridSearch_Chroma.ipynb\" target=\"_parent\"><img src=\"https://colab.research.google.com/assets/colab-badge.svg\" alt=\"Open In Colab\"/></a>"
      ]
    },
    {
      "cell_type": "code",
      "execution_count": 130,
      "metadata": {
        "id": "IOCA326vhGZ0"
      },
      "outputs": [],
      "source": [
        "! pip install --upgrade --quiet langchain_community langchain langchain-google-genai pypdf chromadb rank_bm25"
      ]
    },
    {
      "cell_type": "code",
      "source": [
        "from sklearn.feature_extraction.text import TfidfTransformer,CountVectorizer"
      ],
      "metadata": {
        "id": "eb1u2lOAhnyf"
      },
      "execution_count": 14,
      "outputs": []
    },
    {
      "cell_type": "code",
      "source": [
        "from sklearn.metrics.pairwise import cosine_similarity\n",
        "import numpy as np\n"
      ],
      "metadata": {
        "id": "Sxyn827xh7gg"
      },
      "execution_count": 12,
      "outputs": []
    },
    {
      "cell_type": "code",
      "source": [
        "documents=[\n",
        "    \"I like this phone\",\n",
        "    \"I love this place\",\n",
        "    \"you am from india\"\n",
        "]"
      ],
      "metadata": {
        "id": "JR9YGMMviCR1"
      },
      "execution_count": 40,
      "outputs": []
    },
    {
      "cell_type": "code",
      "source": [
        "vector=TfidfTransformer()"
      ],
      "metadata": {
        "id": "kRHlCfpGiRDV"
      },
      "execution_count": 41,
      "outputs": []
    },
    {
      "cell_type": "code",
      "source": [
        "# First, convert the documents into a matrix of token counts\n",
        "count_vectorizer = CountVectorizer()\n",
        "document_term_matrix = count_vectorizer.fit_transform(documents)\n",
        "\n",
        "# Then, apply TfidfTransformer to the term-document matrix\n",
        "vc = vector.fit_transform(document_term_matrix)\n"
      ],
      "metadata": {
        "id": "LylO2g_xicCJ"
      },
      "execution_count": 42,
      "outputs": []
    },
    {
      "cell_type": "code",
      "source": [
        "vc.toarray()"
      ],
      "metadata": {
        "colab": {
          "base_uri": "https://localhost:8080/"
        },
        "id": "tGYGhaA6ij1Y",
        "outputId": "37d732f9-172c-4a25-9d26-bd7ead8b1d06"
      },
      "execution_count": 43,
      "outputs": [
        {
          "output_type": "execute_result",
          "data": {
            "text/plain": [
              "array([[0.        , 0.        , 0.        , 0.62276601, 0.        ,\n",
              "        0.62276601, 0.        , 0.4736296 , 0.        ],\n",
              "       [0.        , 0.        , 0.        , 0.        , 0.62276601,\n",
              "        0.        , 0.62276601, 0.4736296 , 0.        ],\n",
              "       [0.5       , 0.5       , 0.5       , 0.        , 0.        ,\n",
              "        0.        , 0.        , 0.        , 0.5       ]])"
            ]
          },
          "metadata": {},
          "execution_count": 43
        }
      ]
    },
    {
      "cell_type": "code",
      "source": [
        "queary=\"you are from chaina\""
      ],
      "metadata": {
        "id": "79imVPw_jiK8"
      },
      "execution_count": 56,
      "outputs": []
    },
    {
      "cell_type": "code",
      "source": [
        "# Transform the query using the fitted CountVectorizer\n",
        "query_term_matrix = count_vectorizer.transform([queary])\n",
        "\n",
        "# Transform the query's count vector into its TF-IDF representation\n",
        "query_vc = vector.transform(query_term_matrix)\n",
        "\n"
      ],
      "metadata": {
        "id": "MxChUbnJjpC4"
      },
      "execution_count": 57,
      "outputs": []
    },
    {
      "cell_type": "code",
      "source": [
        "docs=cosine_similarity(query_vc.toarray(),vc.toarray())"
      ],
      "metadata": {
        "id": "HxgnrKlrj1_M"
      },
      "execution_count": 58,
      "outputs": []
    },
    {
      "cell_type": "code",
      "source": [
        "docs"
      ],
      "metadata": {
        "colab": {
          "base_uri": "https://localhost:8080/"
        },
        "id": "eaelXmjblOCl",
        "outputId": "eced37e1-7079-4bb2-c137-ece750b6ef28"
      },
      "execution_count": 59,
      "outputs": [
        {
          "output_type": "execute_result",
          "data": {
            "text/plain": [
              "array([[0.        , 0.        , 0.70710678]])"
            ]
          },
          "metadata": {},
          "execution_count": 59
        }
      ]
    },
    {
      "cell_type": "code",
      "source": [
        "vals=np.argmax(docs)"
      ],
      "metadata": {
        "id": "u383Dg5LkoEj"
      },
      "execution_count": 66,
      "outputs": []
    },
    {
      "cell_type": "code",
      "source": [
        "documents[vals]"
      ],
      "metadata": {
        "colab": {
          "base_uri": "https://localhost:8080/",
          "height": 35
        },
        "id": "GnJCVuWCmSIh",
        "outputId": "20b45cc4-ce16-47ce-f33d-086f52e16042"
      },
      "execution_count": 69,
      "outputs": [
        {
          "output_type": "execute_result",
          "data": {
            "text/plain": [
              "'you am from india'"
            ],
            "application/vnd.google.colaboratory.intrinsic+json": {
              "type": "string"
            }
          },
          "metadata": {},
          "execution_count": 69
        }
      ]
    },
    {
      "cell_type": "code",
      "source": [
        "from langchain_google_genai import ChatGoogleGenerativeAI"
      ],
      "metadata": {
        "id": "z2Iy1G8Fmcra"
      },
      "execution_count": 76,
      "outputs": []
    },
    {
      "cell_type": "code",
      "source": [
        "geminin_api_key= \"\""
      ],
      "metadata": {
        "id": "um1FZKeJnpxX"
      },
      "execution_count": 154,
      "outputs": []
    },
    {
      "cell_type": "code",
      "source": [
        "llm=ChatGoogleGenerativeAI(temperature=1,model=\"gemini-2.0-flash\",api_key=geminin_api_key)"
      ],
      "metadata": {
        "id": "mKBqbzohnamS"
      },
      "execution_count": 83,
      "outputs": []
    },
    {
      "cell_type": "code",
      "source": [
        "llm.invoke(\"hi\").content"
      ],
      "metadata": {
        "colab": {
          "base_uri": "https://localhost:8080/",
          "height": 35
        },
        "id": "sGnOJ8pAnjkQ",
        "outputId": "4dc563c8-fd2f-49a0-ed32-513bcf8edb7c"
      },
      "execution_count": 85,
      "outputs": [
        {
          "output_type": "execute_result",
          "data": {
            "text/plain": [
              "'Hi there! How can I help you today?'"
            ],
            "application/vnd.google.colaboratory.intrinsic+json": {
              "type": "string"
            }
          },
          "metadata": {},
          "execution_count": 85
        }
      ]
    },
    {
      "cell_type": "code",
      "source": [
        "from langchain_community.document_loaders import PyPDFLoader"
      ],
      "metadata": {
        "id": "4sPtDl1mnx37"
      },
      "execution_count": 86,
      "outputs": []
    },
    {
      "cell_type": "code",
      "source": [
        "data=PyPDFLoader(\"/content/OfferLetter.pdf\")"
      ],
      "metadata": {
        "id": "kO4bCdOopTC0"
      },
      "execution_count": 87,
      "outputs": []
    },
    {
      "cell_type": "code",
      "source": [
        "documents=data.load()"
      ],
      "metadata": {
        "id": "eivCxQA-pWlE"
      },
      "execution_count": 91,
      "outputs": []
    },
    {
      "cell_type": "code",
      "source": [
        "from langchain.text_splitter import RecursiveCharacterTextSplitter"
      ],
      "metadata": {
        "id": "PoqfQMWIpYn_"
      },
      "execution_count": 92,
      "outputs": []
    },
    {
      "cell_type": "code",
      "source": [
        "splitter=RecursiveCharacterTextSplitter(chunk_size=300,chunk_overlap=50)"
      ],
      "metadata": {
        "id": "yRY2lX4tptvv"
      },
      "execution_count": 93,
      "outputs": []
    },
    {
      "cell_type": "code",
      "source": [
        "chunkDouments=splitter.split_documents(documents)"
      ],
      "metadata": {
        "id": "nvC8Sj8hp5Io"
      },
      "execution_count": 95,
      "outputs": []
    },
    {
      "cell_type": "code",
      "source": [
        "chunkDouments[1]"
      ],
      "metadata": {
        "colab": {
          "base_uri": "https://localhost:8080/"
        },
        "id": "5brNMW4Mp-up",
        "outputId": "c27bcd7c-39d0-43f0-f549-cd69f97898dc"
      },
      "execution_count": 97,
      "outputs": [
        {
          "output_type": "execute_result",
          "data": {
            "text/plain": [
              "Document(metadata={'producer': 'PD4ML. HTML to PDF Converter for Java (3109fx4)', 'creator': 'PD4ML. HTML to PDF Converter for Java (3109fx4)', 'creationdate': '2025-06-13T07:24:10+00:00', 'author': 'SuccessFactors Performance Manager', 'source': '/content/OfferLetter.pdf', 'total_pages': 16, 'page': 0, 'page_label': '1'}, page_content='www.capgemini.com/in-en\\n\\xa0\\nEMPLOYMENT OFFER LETTER\\n\\xa0\\nCapgemini Ref: 2580538/201435,\\n06/13/2025,\\nSompalle Narendra.\\n4-10, Kanganellore Mangalam\\nChittoor, Andhra Pradesh\\nIndia.\\nConfidential\\nDear Sompalle Narendra,')"
            ]
          },
          "metadata": {},
          "execution_count": 97
        }
      ]
    },
    {
      "cell_type": "code",
      "source": [
        "from langchain_community.vectorstores import Chroma"
      ],
      "metadata": {
        "id": "hpi3jvtxqGBw"
      },
      "execution_count": 98,
      "outputs": []
    },
    {
      "cell_type": "code",
      "source": [
        "db=Chroma"
      ],
      "metadata": {
        "colab": {
          "base_uri": "https://localhost:8080/"
        },
        "id": "OJZCpmbFqRuQ",
        "outputId": "60fc711e-ed2f-4c95-b195-5c3030554244"
      },
      "execution_count": 102,
      "outputs": [
        {
          "output_type": "stream",
          "name": "stderr",
          "text": [
            "ERROR:chromadb.telemetry.product.posthog:Failed to send telemetry event ClientStartEvent: capture() takes 1 positional argument but 3 were given\n",
            "ERROR:chromadb.telemetry.product.posthog:Failed to send telemetry event ClientCreateCollectionEvent: capture() takes 1 positional argument but 3 were given\n"
          ]
        }
      ]
    },
    {
      "cell_type": "code",
      "source": [
        "from langchain_google_genai.embeddings import Embeddings"
      ],
      "metadata": {
        "id": "rA7zE3-6qUTW"
      },
      "execution_count": 103,
      "outputs": []
    },
    {
      "cell_type": "code",
      "source": [
        "from langchain_google_genai.embeddings import GoogleGenerativeAIEmbeddings\n",
        "embedding_text=GoogleGenerativeAIEmbeddings(google_api_key=geminin_api_key,model=\"models/embedding-001\")"
      ],
      "metadata": {
        "id": "g-OAgj_aqpMJ"
      },
      "execution_count": 120,
      "outputs": []
    },
    {
      "cell_type": "code",
      "source": [],
      "metadata": {
        "id": "ZH8zEOXXt03t"
      },
      "execution_count": 120,
      "outputs": []
    },
    {
      "cell_type": "code",
      "source": [
        "db=Chroma.from_documents(chunkDouments,embedding_text)"
      ],
      "metadata": {
        "colab": {
          "base_uri": "https://localhost:8080/"
        },
        "id": "_wXop_gLqtiB",
        "outputId": "4af34592-bc4e-40d2-fc67-951d4a8cb327"
      },
      "execution_count": 125,
      "outputs": [
        {
          "output_type": "stream",
          "name": "stderr",
          "text": [
            "ERROR:chromadb.telemetry.product.posthog:Failed to send telemetry event ClientStartEvent: capture() takes 1 positional argument but 3 were given\n",
            "ERROR:chromadb.telemetry.product.posthog:Failed to send telemetry event ClientCreateCollectionEvent: capture() takes 1 positional argument but 3 were given\n"
          ]
        }
      ]
    },
    {
      "cell_type": "code",
      "source": [
        "vector_retriver=db.as_retriever()"
      ],
      "metadata": {
        "id": "9Tm2gOOgr2B5"
      },
      "execution_count": 135,
      "outputs": []
    },
    {
      "cell_type": "code",
      "source": [
        "db"
      ],
      "metadata": {
        "colab": {
          "base_uri": "https://localhost:8080/"
        },
        "id": "PtnPHz4kusAF",
        "outputId": "6b99d27b-8aa0-4e96-a8f1-16f7f2d3ad40"
      },
      "execution_count": 128,
      "outputs": [
        {
          "output_type": "execute_result",
          "data": {
            "text/plain": [
              "<langchain_community.vectorstores.chroma.Chroma at 0x7b98daa33010>"
            ]
          },
          "metadata": {},
          "execution_count": 128
        }
      ]
    },
    {
      "cell_type": "code",
      "source": [
        "from langchain.retrievers import BM25Retriever, EnsembleRetriever"
      ],
      "metadata": {
        "id": "j_B6nBMMvI_n"
      },
      "execution_count": 132,
      "outputs": []
    },
    {
      "cell_type": "code",
      "source": [
        "bm_retriver=BM25Retriever.from_documents(chunkDouments)"
      ],
      "metadata": {
        "id": "k8UqvXKJxFcw"
      },
      "execution_count": 133,
      "outputs": []
    },
    {
      "cell_type": "code",
      "source": [
        "bm_retriver"
      ],
      "metadata": {
        "colab": {
          "base_uri": "https://localhost:8080/"
        },
        "id": "zJzmvwn7xPO7",
        "outputId": "a8836940-89f6-4c78-acc2-5f8c612dc038"
      },
      "execution_count": 134,
      "outputs": [
        {
          "output_type": "execute_result",
          "data": {
            "text/plain": [
              "BM25Retriever(vectorizer=<rank_bm25.BM25Okapi object at 0x7b98daaed450>)"
            ]
          },
          "metadata": {},
          "execution_count": 134
        }
      ]
    },
    {
      "cell_type": "code",
      "source": [
        "ensemble_retriver=EnsembleRetriever(retrievers=[vector_retriver,bm_retriver],weights=[0.3,0.7])"
      ],
      "metadata": {
        "id": "xR8m3uNGxQkp"
      },
      "execution_count": 137,
      "outputs": []
    },
    {
      "cell_type": "code",
      "source": [
        "# hybride_score=(1-alpha)*keyword_search+alpha * vector_search\n"
      ],
      "metadata": {
        "id": "D8kPOOzSyJeK"
      },
      "execution_count": 138,
      "outputs": []
    },
    {
      "cell_type": "code",
      "source": [
        "# ensemble_retriver.invoke"
      ],
      "metadata": {
        "id": "1uL9or7Nxzc5"
      },
      "execution_count": 139,
      "outputs": []
    },
    {
      "cell_type": "code",
      "source": [
        "from langchain.chains import RetrievalQA"
      ],
      "metadata": {
        "id": "9frN4u-FzK8W"
      },
      "execution_count": 140,
      "outputs": []
    },
    {
      "cell_type": "code",
      "source": [
        "chain=RetrievalQA.from_chain_type(llm=llm,chain_type=\"stuff\",retriever=ensemble_retriver)"
      ],
      "metadata": {
        "id": "v0afg77qzRJR"
      },
      "execution_count": 152,
      "outputs": []
    },
    {
      "cell_type": "code",
      "source": [
        "chain.invoke(\"what is monthly salary to narendra\")"
      ],
      "metadata": {
        "colab": {
          "base_uri": "https://localhost:8080/"
        },
        "id": "rhxBwoX4zfYd",
        "outputId": "8211c60e-ee1e-4b21-d8d3-caab5a8ddb3e"
      },
      "execution_count": 153,
      "outputs": [
        {
          "output_type": "execute_result",
          "data": {
            "text/plain": [
              "{'query': 'what is monthly salary to narendra',\n",
              " 'result': \"Narendra's gross monthly salary is ₹116,598.00.\"}"
            ]
          },
          "metadata": {},
          "execution_count": 153
        }
      ]
    },
    {
      "cell_type": "code",
      "source": [
        "chain2=RetrievalQA.from_chain_type(llm=llm,chain_type=\"stuff\",retriever=vector_retriver)"
      ],
      "metadata": {
        "id": "ajZfWIgnz8K_"
      },
      "execution_count": 148,
      "outputs": []
    },
    {
      "cell_type": "code",
      "source": [
        "chain2.invoke(\"what is monthly salary to narendra\")"
      ],
      "metadata": {
        "colab": {
          "base_uri": "https://localhost:8080/"
        },
        "id": "gWWywXrr0TX9",
        "outputId": "c48bbc8a-f647-455d-9fdd-defb06ff515e"
      },
      "execution_count": 151,
      "outputs": [
        {
          "output_type": "execute_result",
          "data": {
            "text/plain": [
              "{'query': 'what is monthly salary to narendra',\n",
              " 'result': \"Based on the provided payslip information, Narendra's gross monthly salary is ₹116,598.00.\"}"
            ]
          },
          "metadata": {},
          "execution_count": 151
        }
      ]
    },
    {
      "cell_type": "code",
      "source": [],
      "metadata": {
        "id": "Nz3b8xW90Xu4"
      },
      "execution_count": null,
      "outputs": []
    }
  ]
}