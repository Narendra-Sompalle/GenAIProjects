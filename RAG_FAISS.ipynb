{
  "nbformat": 4,
  "nbformat_minor": 0,
  "metadata": {
    "colab": {
      "provenance": [],
      "gpuType": "T4",
      "authorship_tag": "ABX9TyNSJFRa/qeYBZd80PIipvx+",
      "include_colab_link": true
    },
    "kernelspec": {
      "name": "python3",
      "display_name": "Python 3"
    },
    "language_info": {
      "name": "python"
    },
    "accelerator": "GPU"
  },
  "cells": [
    {
      "cell_type": "markdown",
      "metadata": {
        "id": "view-in-github",
        "colab_type": "text"
      },
      "source": [
        "<a href=\"https://colab.research.google.com/github/Narendra-Sompalle/GenAIProjects/blob/main/RAG_FAISS.ipynb\" target=\"_parent\"><img src=\"https://colab.research.google.com/assets/colab-badge.svg\" alt=\"Open In Colab\"/></a>"
      ]
    },
    {
      "cell_type": "code",
      "execution_count": 35,
      "metadata": {
        "id": "T3W7TJrRziBv",
        "colab": {
          "base_uri": "https://localhost:8080/"
        },
        "outputId": "a4fb65e2-2f35-475e-84b2-6bcd4bc65b96"
      },
      "outputs": [
        {
          "output_type": "stream",
          "name": "stdout",
          "text": [
            "Collecting faiss-cpu\n",
            "  Downloading faiss_cpu-1.11.0-cp311-cp311-manylinux_2_28_x86_64.whl.metadata (4.8 kB)\n",
            "Requirement already satisfied: numpy<3.0,>=1.25.0 in /usr/local/lib/python3.11/dist-packages (from faiss-cpu) (2.0.2)\n",
            "Requirement already satisfied: packaging in /usr/local/lib/python3.11/dist-packages (from faiss-cpu) (24.2)\n",
            "Downloading faiss_cpu-1.11.0-cp311-cp311-manylinux_2_28_x86_64.whl (31.3 MB)\n",
            "\u001b[2K   \u001b[90m━━━━━━━━━━━━━━━━━━━━━━━━━━━━━━━━━━━━━━━━\u001b[0m \u001b[32m31.3/31.3 MB\u001b[0m \u001b[31m69.3 MB/s\u001b[0m eta \u001b[36m0:00:00\u001b[0m\n",
            "\u001b[?25hInstalling collected packages: faiss-cpu\n",
            "Successfully installed faiss-cpu-1.11.0\n"
          ]
        }
      ],
      "source": [
        "# !pip install openai langchain langchain_community tiktoken rapidocr-onnxruntime\n",
        "! pip install faiss-cpu"
      ]
    },
    {
      "cell_type": "code",
      "source": [
        "# OpenAI_API_Key=\"\""
      ],
      "metadata": {
        "id": "dnJn3qqVzp71"
      },
      "execution_count": 58,
      "outputs": []
    },
    {
      "cell_type": "code",
      "source": [
        "# with open(\"/content/state_of_the_union.txt\",\"r\") as f:\n",
        "#   data=f.read()"
      ],
      "metadata": {
        "id": "2Jj9GwdhSX7p"
      },
      "execution_count": 6,
      "outputs": []
    },
    {
      "cell_type": "code",
      "source": [
        "import requests"
      ],
      "metadata": {
        "id": "Si7DhlNMWNMV"
      },
      "execution_count": 7,
      "outputs": []
    },
    {
      "cell_type": "code",
      "source": [
        "data=requests.get(\"https://raw.githubusercontent.com/sunnysavita10/Generative-AI-Indepth-Basic-to-Advance/refs/heads/main/RAG%20App%20using%20Langchain%20OpenAI%20FAISS/state_of_the_union.txt\")"
      ],
      "metadata": {
        "id": "tjteLM0YWT89"
      },
      "execution_count": 8,
      "outputs": []
    },
    {
      "cell_type": "code",
      "source": [
        "# data.text"
      ],
      "metadata": {
        "id": "2YcenWfxWXTU"
      },
      "execution_count": 9,
      "outputs": []
    },
    {
      "cell_type": "code",
      "source": [
        "with open(\"state_of_the_union.txt\",\"w\") as f:\n",
        "  f.write(data.text)"
      ],
      "metadata": {
        "id": "HMWhVYGEWXB3"
      },
      "execution_count": 10,
      "outputs": []
    },
    {
      "cell_type": "code",
      "source": [
        "from langchain.document_loaders import TextLoader"
      ],
      "metadata": {
        "id": "QbEev9paU-TS"
      },
      "execution_count": 11,
      "outputs": []
    },
    {
      "cell_type": "code",
      "source": [
        "loader=TextLoader(\"/content/state_of_the_union.txt\")"
      ],
      "metadata": {
        "id": "xToJGG4oXGs_"
      },
      "execution_count": 12,
      "outputs": []
    },
    {
      "cell_type": "code",
      "source": [
        "documets=loader.load()"
      ],
      "metadata": {
        "id": "3FpD8aSqXODj"
      },
      "execution_count": 13,
      "outputs": []
    },
    {
      "cell_type": "code",
      "source": [
        "# documets[0]"
      ],
      "metadata": {
        "id": "ap_2pMSOXdVd"
      },
      "execution_count": 20,
      "outputs": []
    },
    {
      "cell_type": "code",
      "source": [
        "import langchain.text_splitter"
      ],
      "metadata": {
        "id": "5U11_OasXi3l"
      },
      "execution_count": 15,
      "outputs": []
    },
    {
      "cell_type": "markdown",
      "source": [
        "## Text splitters:\n",
        "\n",
        "###'CharacterTextSplitter',\n",
        "### 'ElementType',\n",
        "### 'HTMLHeaderTextSplitter',\n",
        "### 'HeaderType',\n",
        "### 'KonlpyTextSplitter',\n",
        "### 'Language',\n",
        "### 'LatexTextSplitter',\n",
        "### 'LineType',\n",
        "### 'MarkdownHeaderTextSplitter',\n",
        "### 'MarkdownTextSplitter',\n",
        "### 'NLTKTextSplitter',\n",
        "### 'PythonCodeTextSplitter',\n",
        "### 'RecursiveCharacterTextSplitter',\n",
        "### 'RecursiveJsonSplitter',\n",
        "### 'SentenceTransformersTokenTextSplitter',\n",
        "### 'SpacyTextSplitter',\n",
        "### 'TextSplitter',\n",
        "### 'TokenTextSplitter',\n",
        "### 'Tokenizer',"
      ],
      "metadata": {
        "id": "e0REUWcxwOKM"
      }
    },
    {
      "cell_type": "code",
      "source": [
        "from langchain.text_splitter import RecursiveCharacterTextSplitter"
      ],
      "metadata": {
        "id": "E89Ma6x7wNon"
      },
      "execution_count": 17,
      "outputs": []
    },
    {
      "cell_type": "code",
      "source": [
        "# dir(langchain.text_splitter )"
      ],
      "metadata": {
        "id": "YT-Z4gBkv8yg"
      },
      "execution_count": 18,
      "outputs": []
    },
    {
      "cell_type": "code",
      "source": [
        "splitter=RecursiveCharacterTextSplitter(chunk_size=200,chunk_overlap=30)"
      ],
      "metadata": {
        "id": "ngN10FzdwAnJ"
      },
      "execution_count": 19,
      "outputs": []
    },
    {
      "cell_type": "code",
      "source": [
        "docs=splitter.split_documents(documets)"
      ],
      "metadata": {
        "id": "m8M2z2ZgxHlu"
      },
      "execution_count": 22,
      "outputs": []
    },
    {
      "cell_type": "code",
      "source": [
        "from langchain.embeddings import OpenAIEmbeddings\n",
        "from langchain.vectorstores import FAISS"
      ],
      "metadata": {
        "id": "UWOG5qJhxRiU"
      },
      "execution_count": 24,
      "outputs": []
    },
    {
      "cell_type": "code",
      "source": [
        "# Open_ai_key=\"\""
      ],
      "metadata": {
        "id": "brdpSFTt2LrH"
      },
      "execution_count": 60,
      "outputs": []
    },
    {
      "cell_type": "code",
      "source": [
        "embedding = OpenAIEmbeddings(openai_api_key=Open_ai_key)"
      ],
      "metadata": {
        "id": "CDpESTFSzfRE"
      },
      "execution_count": 28,
      "outputs": []
    },
    {
      "cell_type": "code",
      "source": [
        "db=FAISS.from_documents(docs,embedding)"
      ],
      "metadata": {
        "id": "CV3UWDDS1h3z"
      },
      "execution_count": 36,
      "outputs": []
    },
    {
      "cell_type": "code",
      "source": [
        "retriver=db.as_retriever()"
      ],
      "metadata": {
        "id": "wjcHf9TP1rIs"
      },
      "execution_count": 37,
      "outputs": []
    },
    {
      "cell_type": "code",
      "source": [
        "from langchain.prompts import ChatPromptTemplate\n"
      ],
      "metadata": {
        "id": "Y3e0d9o73n4n"
      },
      "execution_count": 38,
      "outputs": []
    },
    {
      "cell_type": "code",
      "source": [
        "template=\"\"\"You are an assistant for question-answering tasks.\n",
        "Use the following pieces of retrieved context to answer the question.\n",
        "If you don't know the answer, just say that you don't know.\n",
        "Use ten sentences maximum and keep the answer concise.\n",
        "Question: {question}\n",
        "Context: {context}\n",
        "Answer:\n",
        "\"\"\""
      ],
      "metadata": {
        "id": "AAnnSx5Y31QS"
      },
      "execution_count": 39,
      "outputs": []
    },
    {
      "cell_type": "code",
      "source": [
        "prompt=ChatPromptTemplate.from_template(template)"
      ],
      "metadata": {
        "id": "eDo1Do9Q4O_3"
      },
      "execution_count": 40,
      "outputs": []
    },
    {
      "cell_type": "code",
      "source": [
        "from langchain.chat_models import ChatOpenAI\n",
        "from langchain.schema.runnable import RunnablePassthrough\n",
        "from langchain.schema.output_parser import StrOutputParser"
      ],
      "metadata": {
        "id": "nnhJclLY3j-B"
      },
      "execution_count": 47,
      "outputs": []
    },
    {
      "cell_type": "code",
      "source": [
        "llm_model =ChatOpenAI(openai_api_key=Open_ai_key,model_name=\"gpt-3.5-turbo\",temperature=0)"
      ],
      "metadata": {
        "id": "Y0PFOyyV4iqt"
      },
      "execution_count": 54,
      "outputs": []
    },
    {
      "cell_type": "code",
      "source": [
        "output_parser=StrOutputParser()"
      ],
      "metadata": {
        "id": "VxBXM2DC6Ing"
      },
      "execution_count": 55,
      "outputs": []
    },
    {
      "cell_type": "code",
      "source": [
        "rag_chain = (\n",
        "    {\"context\": retriver,  \"question\": RunnablePassthrough()}\n",
        "    | prompt\n",
        "    | llm_model\n",
        "    | output_parser\n",
        ")"
      ],
      "metadata": {
        "id": "8nt_oYYD5W8Q"
      },
      "execution_count": 56,
      "outputs": []
    },
    {
      "cell_type": "code",
      "source": [
        "rag_chain.invoke(\"How is the United States supporting Ukraine economically and militarily?\")"
      ],
      "metadata": {
        "colab": {
          "base_uri": "https://localhost:8080/",
          "height": 122
        },
        "id": "wX0xyadi6KzZ",
        "outputId": "2f87e806-c6b7-4f17-ccab-f045cb41263e"
      },
      "execution_count": 57,
      "outputs": [
        {
          "output_type": "execute_result",
          "data": {
            "text/plain": [
              "'The United States is supporting Ukraine economically and militarily by providing military assistance, economic assistance, and humanitarian assistance. They are giving more than $1 billion in direct assistance to Ukraine. The US will continue to aid the Ukrainian people as they defend their country and help ease their suffering. The US stands with the Ukrainian people and shows support by providing assistance. The United States of America stands with the Ukrainian people. The US supports Ukrainian Americans who forge a deep bond connecting the two nations.'"
            ],
            "application/vnd.google.colaboratory.intrinsic+json": {
              "type": "string"
            }
          },
          "metadata": {},
          "execution_count": 57
        }
      ]
    },
    {
      "cell_type": "code",
      "source": [],
      "metadata": {
        "id": "G-_I6rQO6PgB"
      },
      "execution_count": null,
      "outputs": []
    }
  ]
}